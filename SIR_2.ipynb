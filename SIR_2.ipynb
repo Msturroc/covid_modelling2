{
 "cells": [
  {
   "cell_type": "markdown",
   "metadata": {},
   "source": [
    "# Modelling and simulating COVID-19 using spatial models\n",
    "\n",
    "<p class=\"pm-node nj-authors\">Marc Sturrock, RCSI [marcsturrock@rcsi.com]</p>\n",
    "\n",
    "Here we expand upon the simple ODE based SIR model in the previous notebook to consider agent based spatial models. We make use of the julia package \"Agents.jl\" for this. Note that these models are also stochastic, so \n",
    "\n",
    "Here is what will be covered in this session:\n",
    "\n",
    "- [x] Agent based models description \n",
    "- [x] Moving agents (people) in space\n",
    "- [x] People bumping into each other: incorporating billiard-like interactions\n",
    "- [x] Adding COVID-19 spread using SIR model dynamics\n",
    "- [x] Simulating social distancing"
   ]
  },
  {
   "cell_type": "markdown",
   "metadata": {},
   "source": [
    "# Model Description: Agent Based Model (ABM)\n",
    "\n",
    "An agent-based (or individual-based) model is a computational simulation of autonomous agents that react to their environment (including other agents) given a predefined set of rules. ABMs have been adopted and studied in a variety of research disciplines. One reason for their popularity is that they enable a relaxation of many simplifying assumptions usually made by mathematical models.\n",
    "\n",
    "Agent-based models are increasingly recognised as a useful approach for studying complex systems. Complex systems cannot be fully understood using traditional mathematical tools which aggregate the behaviour of elements in a system. The behavior of a complex system depends on both the behavior of and interactions between its elements (agents). Small changes in the input to complex systems or the behaviour of its agents can lead to large changes in outcome. That is to say, a complex system's behaviour is nonlinear, and that it is not only the sum of the behaviour of its elements. Use of ABMs have become feasible after the availability of computers and has been growing ever since, especially in modelling biological and economical systems, and has extended to social studies and archaeology.\n",
    "\n",
    "An ABM consists of autonomous agents that behave given a set of rules. A classic example of an ABM is Schelling's segregation model which uses a regular grid and defines agents at random positions on the grid. Agents can be from different social groups. Agents are happy/unhappy based on the fraction of their neighbours that belong to the same group as they are. If they are unhappy, they keep moving to new locations until they are happy. Schelling's model shows that even small preferences of agents to have neighbours belonging to the same group (e.g. preferring that at least 30% of neighbours to be in the same group) could lead to total segregation of neighbourhoods. This is an example of emergent behaviour from simple interactions of agents that can only be captured in an agent-based model.\n",
    "\n",
    "# Moving agents (people) in space"
   ]
  },
  {
   "cell_type": "code",
   "execution_count": null,
   "metadata": {},
   "outputs": [],
   "source": [
    "using Agents, Random\n",
    "\n",
    "mutable struct Agent <: AbstractAgent\n",
    "    id::Int\n",
    "    pos::NTuple{2,Float64}\n",
    "    vel::NTuple{2,Float64}\n",
    "    mass::Float64\n",
    "end"
   ]
  },
  {
   "cell_type": "markdown",
   "metadata": {},
   "source": [
    "The mass field will come in handy later on, when we implement social isolation (i.e. that some agents don't move and can't be moved).\n",
    "\n",
    "Let's also initialise a trivial model with continuous space"
   ]
  },
  {
   "cell_type": "code",
   "execution_count": null,
   "metadata": {},
   "outputs": [],
   "source": [
    "function ball_model(; speed = 0.002)\n",
    "    space2d = ContinuousSpace((1, 1), 0.02)\n",
    "    model = ABM(Agent, space2d, properties = Dict(:dt => 1.0), rng = MersenneTwister(42))\n",
    "\n",
    "    # And add some agents to the model\n",
    "    for ind in 1:500\n",
    "        pos = Tuple(rand(model.rng, 2))\n",
    "        vel = sincos(2π * rand(model.rng)) .* speed\n",
    "        add_agent!(pos, model, vel, 1.0)\n",
    "    end\n",
    "    return model\n",
    "end\n",
    "\n",
    "model = ball_model()"
   ]
  },
  {
   "cell_type": "markdown",
   "metadata": {},
   "source": [
    "We took advantage of the functionality of add_agent! that creates the agents automatically. For now all agents have the same absolute speed, and mass.\n",
    "\n",
    "The agent step function for now is trivial. It is just move_agent! in continuous space"
   ]
  },
  {
   "cell_type": "code",
   "execution_count": null,
   "metadata": {},
   "outputs": [],
   "source": [
    "agent_step!(agent, model) = move_agent!(agent, model, model.dt)"
   ]
  },
  {
   "cell_type": "code",
   "execution_count": null,
   "metadata": {},
   "outputs": [],
   "source": [
    "using InteractiveDynamics\n",
    "using CairoMakie\n",
    "using Base64\n",
    "abm_video(\n",
    "    \"socialdist1.mp4\",\n",
    "    model,\n",
    "    agent_step!;\n",
    "    title = \"Ball Model\",\n",
    "    frames = 50,\n",
    "    spf = 2,\n",
    "    framerate = 25,\n",
    ")\n",
    "function showanim(filename)\n",
    "    base64_video = base64encode(open(filename))\n",
    "    display(\"text/html\", \"\"\"<video controls src=\"data:video/x-m4v;base64,$base64_video\">\"\"\")\n",
    "end\n",
    "showanim(\"socialdist1.mp4\")"
   ]
  },
  {
   "cell_type": "markdown",
   "metadata": {},
   "source": [
    "As you can see the agents move in a straight line (with periodic boundary conditions - if an agent leaves the right boundary they re-emerge in the left boundary). There are no interactions yet.\n",
    "\n",
    "# People bumping into each other: incorporating billiard-like interactions\n",
    "\n",
    "We will model the people as balls that bump into each other."
   ]
  },
  {
   "cell_type": "code",
   "execution_count": null,
   "metadata": {},
   "outputs": [],
   "source": [
    "function model_step!(model)\n",
    "    for (a1, a2) in interacting_pairs(model, 0.012, :nearest)\n",
    "        elastic_collision!(a1, a2, :mass)\n",
    "    end\n",
    "end\n",
    "\n",
    "model2 = ball_model()\n",
    "\n",
    "abm_video(\n",
    "    \"socialdist2.mp4\",\n",
    "    model2,\n",
    "    agent_step!,\n",
    "    model_step!;\n",
    "    title = \"Billiard-like\",\n",
    "    frames = 50,\n",
    "    spf = 2,\n",
    "    framerate = 25,\n",
    ")\n",
    "showanim(\"socialdist2.mp4\")"
   ]
  },
  {
   "cell_type": "markdown",
   "metadata": {},
   "source": [
    "## Adding COVID-19 spread using SIR model dynamics\n",
    "We now add more functionality to these agents, according to the SIR model (see previous example).\n",
    "They can be infected with COVID-19 and transfer COVID-19 to other agents around them."
   ]
  },
  {
   "cell_type": "code",
   "execution_count": null,
   "metadata": {},
   "outputs": [],
   "source": [
    "mutable struct PoorSoul <: AbstractAgent\n",
    "    id::Int\n",
    "    pos::NTuple{2,Float64}\n",
    "    vel::NTuple{2,Float64}\n",
    "    mass::Float64\n",
    "    days_infected::Int  # number of days since is infected\n",
    "    status::Symbol  # :S, :I or :R\n",
    "    β::Float64\n",
    "end"
   ]
  },
  {
   "cell_type": "markdown",
   "metadata": {},
   "source": [
    "Here `β` is the transmission probability, which we choose to make an\n",
    "agent parameter instead of a model parameter. It reflects the level of hygiene\n",
    "of an individual. In a realistic scenario, the actual virus transmission\n",
    "would depend on the `β` value of both agents, but we don't do that here for simplicity.\n",
    "\n",
    "We also significantly modify the model creation, to have SIR-related parameters.\n",
    "Each step in the model corresponds to one hour."
   ]
  },
  {
   "cell_type": "code",
   "execution_count": null,
   "metadata": {},
   "outputs": [],
   "source": [
    "const steps_per_day = 24\n",
    "\n",
    "using DrWatson: @dict\n",
    "function sir_initiation(;\n",
    "    infection_period = 30 * steps_per_day,\n",
    "    detection_time = 14 * steps_per_day,\n",
    "    reinfection_probability = 0.05,\n",
    "    isolated = 0.0, # in percentage\n",
    "    interaction_radius = 0.012,\n",
    "    dt = 1.0,\n",
    "    speed = 0.002,\n",
    "    death_rate = 0.044, # from website of WHO\n",
    "    N = 1000,\n",
    "    initial_infected = 5,\n",
    "    seed = 42,\n",
    "    βmin = 0.4,\n",
    "    βmax = 0.8,\n",
    ")\n",
    "\n",
    "    properties = @dict(\n",
    "        infection_period,\n",
    "        reinfection_probability,\n",
    "        detection_time,\n",
    "        death_rate,\n",
    "        interaction_radius,\n",
    "        dt,\n",
    "    )\n",
    "    space = ContinuousSpace((1,1), 0.02)\n",
    "    model = ABM(PoorSoul, space, properties = properties, rng = MersenneTwister(seed))\n",
    "\n",
    "    ## Add initial individuals\n",
    "    for ind in 1:N\n",
    "        pos = Tuple(rand(model.rng, 2))\n",
    "        status = ind ≤ N - initial_infected ? :S : :I\n",
    "        isisolated = ind ≤ isolated * N\n",
    "        mass = isisolated ? Inf : 1.0\n",
    "        vel = isisolated ? (0.0, 0.0) : sincos(2π * rand(model.rng)) .* speed\n",
    "\n",
    "        ## very high transmission probability\n",
    "        ## we are modelling close encounters after all\n",
    "        β = (βmax - βmin) * rand(model.rng) + βmin\n",
    "        add_agent!(pos, model, vel, mass, 0, status, β)\n",
    "    end\n",
    "\n",
    "    return model\n",
    "end"
   ]
  },
  {
   "cell_type": "markdown",
   "metadata": {},
   "source": [
    "Notice the constant `steps_per_day`, which approximates how many model steps\n",
    "correspond to one day (since the parameters we used in the previous graph SIR example\n",
    "were given in days).\n",
    "\n",
    "To visualise this model, we will use black color for the susceptible, red for\n",
    "the infected infected and green for the recovered, leveraging\n",
    "[`InteractiveDynamics.abm_plot`](@ref)."
   ]
  },
  {
   "cell_type": "code",
   "execution_count": null,
   "metadata": {},
   "outputs": [],
   "source": [
    "sir_model = sir_initiation()\n",
    "\n",
    "sir_colors(a) = a.status == :S ? \"#2b2b33\" : a.status == :I ? \"#bf2642\" : \"#338c54\"\n",
    "\n",
    "fig, abmstepper = abm_plot(sir_model; ac = sir_colors)\n",
    "fig # display figure"
   ]
  },
  {
   "cell_type": "markdown",
   "metadata": {},
   "source": [
    "We have increased the size of the model 10-fold (for more realistic further analysis)\n",
    "\n",
    "To actually spread the virus, we modify the `model_step!` function,\n",
    "so that individuals have a probability to transmit the disease as they interact."
   ]
  },
  {
   "cell_type": "code",
   "execution_count": null,
   "metadata": {},
   "outputs": [],
   "source": [
    "function transmit!(a1, a2, rp)\n",
    "    ## for transmission, only 1 can have the disease (otherwise nothing happens)\n",
    "    count(a.status == :I for a in (a1, a2)) ≠ 1 && return\n",
    "    infected, healthy = a1.status == :I ? (a1, a2) : (a2, a1)\n",
    "\n",
    "    rand(model.rng) > infected.β && return\n",
    "\n",
    "    if healthy.status == :R\n",
    "        rand(model.rng) > rp && return\n",
    "    end\n",
    "    healthy.status = :I\n",
    "end\n",
    "\n",
    "function sir_model_step!(model)\n",
    "    r = model.interaction_radius\n",
    "    for (a1, a2) in interacting_pairs(model, r, :nearest)\n",
    "        transmit!(a1, a2, model.reinfection_probability)\n",
    "        elastic_collision!(a1, a2, :mass)\n",
    "    end\n",
    "end"
   ]
  },
  {
   "cell_type": "markdown",
   "metadata": {},
   "source": [
    "Notice that it is not necessary that the transmission interaction radius is the same\n",
    "as the billiard-ball dynamics. We only have them the same here for convenience,\n",
    "but in a real model they will probably differ.\n",
    "\n",
    "We also modify the `agent_step!` function, so that we keep track of how long the\n",
    "agent has been infected, and whether they have to die or not.\n"
   ]
  },
  {
   "cell_type": "code",
   "execution_count": null,
   "metadata": {},
   "outputs": [],
   "source": [
    "function sir_agent_step!(agent, model)\n",
    "    move_agent!(agent, model, model.dt)\n",
    "    update!(agent)\n",
    "    recover_or_die!(agent, model)\n",
    "end\n",
    "\n",
    "update!(agent) = agent.status == :I && (agent.days_infected += 1)\n",
    "\n",
    "function recover_or_die!(agent, model)\n",
    "    if agent.days_infected ≥ model.infection_period\n",
    "        if rand(model.rng) ≤ model.death_rate\n",
    "            kill_agent!(agent, model)\n",
    "        else\n",
    "            agent.status = :R\n",
    "            agent.days_infected = 0\n",
    "        end\n",
    "    end\n",
    "end\n",
    "nothing # hide\n",
    "\n",
    "# Alright, now we can animate this process for default parameters\n",
    "\n",
    "sir_model = sir_initiation()\n",
    "\n",
    "abm_video(\n",
    "    \"socialdist3.mp4\",\n",
    "    sir_model,\n",
    "    sir_agent_step!,\n",
    "    sir_model_step!;\n",
    "    title = \"SIR model\",\n",
    "    frames = 100,\n",
    "    ac = sir_colors,\n",
    "    as = 10,\n",
    "    spf = 1,\n",
    "    framerate = 20,\n",
    ")\n",
    "showanim(\"socialdist3.mp4\")"
   ]
  },
  {
   "cell_type": "markdown",
   "metadata": {},
   "source": [
    "We can also view how the time series graph looks to see if the overall number of infected varies."
   ]
  },
  {
   "cell_type": "code",
   "execution_count": null,
   "metadata": {},
   "outputs": [],
   "source": [
    "infected(x) = count(i == :I for i in x)\n",
    "recovered(x) = count(i == :R for i in x)\n",
    "adata = [(:status, infected), (:status, recovered)]\n",
    "nothing # hide\n",
    "\n",
    "# Let's do the following runs, with different parameters probabilities\n",
    "r1, r2 = 0.04, 0.33\n",
    "β1, β2 = 0.5, 0.1\n",
    "sir_model1 = sir_initiation(reinfection_probability = r1, βmin = β1)\n",
    "sir_model2 = sir_initiation(reinfection_probability = r2, βmin = β1)\n",
    "sir_model3 = sir_initiation(reinfection_probability = r1, βmin = β2)\n",
    "\n",
    "data1, _ = run!(sir_model1, sir_agent_step!, sir_model_step!, 2000; adata)\n",
    "data2, _ = run!(sir_model2, sir_agent_step!, sir_model_step!, 2000; adata)\n",
    "data3, _ = run!(sir_model3, sir_agent_step!, sir_model_step!, 2000; adata)\n",
    "\n",
    "data1[(end-10):end, :]\n",
    "@show size(data1)\n",
    "# Now, we can plot the number of infected versus time\n",
    "using CairoMakie\n",
    "figure = Figure()\n",
    "ax = figure[1, 1] = Axis(figure; ylabel = \"Infected\")\n",
    "l1 = lines!(ax, data1[:, 2], color = :orange)\n",
    "l2 = lines!(ax, data2[:, 2], color = :blue)\n",
    "l3 = lines!(ax, data3[:, 2], color = :green)\n",
    "figure[1, 2] =\n",
    "    Legend(figure, [l1, l2, l3], [\"r=$r1, beta=$β1\", \"r=$r2, beta=$β1\", \"r=$r1, beta=$β2\"])\n",
    "figure"
   ]
  },
  {
   "cell_type": "markdown",
   "metadata": {},
   "source": [
    "# Simulating social distancing\n",
    "Of course we are beyond the point of socially distancing and rolling out vaccinations. This effectively introduces a 4th type of status, :V for vaccinated. This type can't get infected, and thus all remaining individuals that are already infected will (hopefully) survive or die out.\n",
    "\n",
    "Until that point, social distancing is practiced. The best way to model social distancing is to make some agents simply not move. You can think of this as people working from home/not travelling as much. Of course not everyone obeys these rules - try playing with the fraction of isolated (socially distancing) people below. "
   ]
  },
  {
   "cell_type": "code",
   "execution_count": null,
   "metadata": {
    "scrolled": false
   },
   "outputs": [],
   "source": [
    "sir_model = sir_initiation(isolated = 0.8)\n",
    "abm_video(\n",
    "    \"socialdist4.mp4\",\n",
    "    sir_model,\n",
    "    sir_agent_step!,\n",
    "    sir_model_step!;\n",
    "    title = \"Social Distancing\",\n",
    "    frames = 100,\n",
    "    spf = 2,\n",
    "    ac = sir_colors,\n",
    "    framerate = 20,\n",
    ")\n",
    "showanim(\"socialdist4.mp4\")"
   ]
  },
  {
   "cell_type": "markdown",
   "metadata": {},
   "source": [
    "Here we let some 20% of the population not be isolated, this simulates those in the population who do not follow government guidelines. Still, you can see that the spread of the virus is still dramatically welll contained.\n",
    "\n",
    "Rather than trying to eye-ball animations and guess which scenarios are better, we can look at the related time-series graphs too."
   ]
  },
  {
   "cell_type": "code",
   "execution_count": null,
   "metadata": {},
   "outputs": [],
   "source": [
    "r4 = 0.04\n",
    "sir_model4 = sir_initiation(reinfection_probability = r4, βmin = β1, isolated = 0.95)\n",
    "\n",
    "data4, _ = run!(sir_model4, sir_agent_step!, sir_model_step!, 2000; adata)\n",
    "\n",
    "l4 = lines!(ax, data4[:, 2], color = :red)\n",
    "figure[1, 2] = Legend(\n",
    "    figure,\n",
    "    [l1, l2, l3, l4],\n",
    "    [\"r=$r1, beta=$β1\", \"r=$r2, beta=$β1\", \"r=$r1, beta=$β2\", \"r=$r4, social distancing\"],\n",
    ")\n",
    "figure"
   ]
  },
  {
   "cell_type": "markdown",
   "metadata": {},
   "source": [
    "Here you can see the characteristic \"flattening the curve\" which avoids the health system being overwhelemed. There are many expansions available for such models, a nice overview is given here:\n",
    "\n",
    "https://www.youtube.com/watch?v=gxAaO2rsdIs"
   ]
  }
 ],
 "metadata": {
  "@webio": {
   "lastCommId": null,
   "lastKernelId": null
  },
  "kernelspec": {
   "display_name": "Julia 1.6.0-beta1",
   "language": "julia",
   "name": "julia-1.6"
  },
  "language_info": {
   "file_extension": ".jl",
   "mimetype": "application/julia",
   "name": "julia",
   "version": "1.6.0"
  }
 },
 "nbformat": 4,
 "nbformat_minor": 4
}
